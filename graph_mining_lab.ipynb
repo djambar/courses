{
  "nbformat": 4,
  "nbformat_minor": 0,
  "metadata": {
    "colab": {
      "name": "graph_mining_lab.ipynb",
      "provenance": [],
      "collapsed_sections": [],
      "include_colab_link": true
    },
    "kernelspec": {
      "display_name": "Python 3",
      "language": "python",
      "name": "python3"
    },
    "language_info": {
      "codemirror_mode": {
        "name": "ipython",
        "version": 3
      },
      "file_extension": ".py",
      "mimetype": "text/x-python",
      "name": "python",
      "nbconvert_exporter": "python",
      "pygments_lexer": "ipython3",
      "version": "3.7.4"
    }
  },
  "cells": [
    {
      "cell_type": "markdown",
      "metadata": {
        "id": "view-in-github",
        "colab_type": "text"
      },
      "source": [
        "<a href=\"https://colab.research.google.com/github/djambar/courses/blob/master/graph_mining_lab.ipynb\" target=\"_parent\"><img src=\"https://colab.research.google.com/assets/colab-badge.svg\" alt=\"Open In Colab\"/></a>"
      ]
    },
    {
      "cell_type": "markdown",
      "metadata": {
        "colab_type": "text",
        "id": "5jlpTuZyRaqn"
      },
      "source": [
        "<center><h2>DSSP<br>Lab: 27/06/2020<br>Graph Mining using Python<br></h2>G. Nikolentzos, C. Xypolopoulos, M. Vazirgiannis</center>\n",
        "\n",
        "## 1. Description\n",
        "The goal of this lab is to work with graph (or network) data using the [NexworkX](http://networkx.github.io/) library of Python. We will use this library to perform data analytics tasks on graphs. The lab is divided into three parts.\n",
        "In the first part, we will analyze a collaboration network. Then, we will implement a well-known algorithm to reveal the community structure of a simple network. Finally, we will use graph kernels to measure the similarity between graphs and to perform graph classification.\n",
        "\n",
        "## 2. Analyzing a Real-World Graph\n",
        "In the first part of the lab, we will analyze the `CA-GrQc` collaboration network, examining several structural properties. Arxiv GR-QC (General Relativity and Quantum Cosmology) collaboration network comes from the e-print arXiv and covers scientific collaborations between authors of papers submitted to General Relativity and Quantum Cosmology category. If an author $i$ co-authored a paper with another author $j$, the graph contains an undirected edge from $i$ to $j$. \n",
        "\n",
        "The graph is stored in the `CA-GrQc.txt` file as an edge list. Below you can see the first lines of the file.\n",
        "\n",
        "``` html\n",
        "# Directed graph (each unordered pair of nodes is saved once): CA-GrQc.txt \n",
        "# Collaboration network of Arxiv General Relativity category (there is an \n",
        "edge if authors coauthored at least one paper)\n",
        "# Nodes: 5242 Edges: 28980\n",
        "# FromNodeId\tToNodeId\n",
        "3466\t937\n",
        "3466\t5233\n",
        "...\n",
        "```\n",
        "\n",
        "Your first task is to load the network data into a *directed* graph $G$, using the [`read_edgelist()`](https://networkx.github.io/documentation/stable/reference/readwrite/generated/networkx.readwrite.edgelist.read_edgelist.html) function of NetworkX. Note that the delimeter used to separate values is the tab character '\\t' and additionaly, the text that follows the '#' character corresponds to comments. The general syntax of the function is the following:\n",
        "\n",
        "    G = read_edgelist(path, comments='#', delimiter='\\t', create_using=nx.Graph())\n",
        "    \n",
        "<u>Tasks</u>:\n",
        "- Load the dataset using the `read_edgelist()` function.\n",
        "- Print the number of nodes and the number of the edges of the dataset (use the [`number_of_nodes()`](https://networkx.github.io/documentation/stable/reference/classes/generated/networkx.DiGraph.number_of_nodes.html#networkx.DiGraph.number_of_nodes) and [`number_of_edges()`](https://networkx.github.io/documentation/stable/reference/classes/generated/networkx.DiGraph.number_of_edges.html#networkx.DiGraph.number_of_edges) functions of NetworkX)."
      ]
    },
    {
      "cell_type": "code",
      "metadata": {
        "colab_type": "code",
        "id": "nqRKLYzURaqp",
        "colab": {
          "base_uri": "https://localhost:8080/",
          "height": 86
        },
        "outputId": "05d09eed-c1cd-4d61-b38f-de314a2f505c"
      },
      "source": [
        "import networkx as nx\n",
        "import urllib\n",
        "\n",
        "G = nx.read_edgelist(urllib.request.urlopen('http://www.db-net.aueb.gr/nikolentzos/dssp/graph_mining/data/CA-GrQc.txt'), comments='#', delimiter='\\t', create_using=nx.Graph())\n",
        "\n",
        "print(\"Number of nodes:\", G.number_of_nodes())\n",
        "print(\"Number of edges:\", G.number_of_edges())\n",
        "\n",
        "to_delete = list()\n",
        "for edge in G.edges():\n",
        "  if edge[0] == edge[1]:\n",
        "    to_delete.append(edge)\n",
        "\n",
        "for edge in to_delete:\n",
        "  G.remove_edge(edge[0], edge[1])\n",
        "\n",
        "print(\"Number of nodes after removing self-loops:\", G.number_of_nodes())\n",
        "print(\"Number of edges after removing self-loops::\", G.number_of_edges())"
      ],
      "execution_count": null,
      "outputs": [
        {
          "output_type": "stream",
          "text": [
            "Number of nodes: 5242\n",
            "Number of edges: 14496\n",
            "Number of nodes after removing self-loops: 5242\n",
            "Number of edges after removing self-loops:: 14484\n"
          ],
          "name": "stdout"
        }
      ]
    },
    {
      "cell_type": "markdown",
      "metadata": {
        "colab_type": "text",
        "id": "Hq1y1g_4Raq2"
      },
      "source": [
        "We will next compute the number of connected components of the graph, and extract the largest connected component. A connected component is a subgraph in which any two vertices are connected to each other by paths.\n",
        "\n",
        "<u>Tasks</u>:\n",
        "- Compute the number of connected components of the graph (use the [`number_connected_components()`](https://networkx.github.io/documentation/stable/reference/algorithms/generated/networkx.algorithms.components.number_connected_components.html#networkx.algorithms.components.number_connected_components) function of NetworkX)\n",
        "- Extract the largest connected component and print its number of nodes and number of the edges (use the [`connected_components()`](https://networkx.github.io/documentation/stable/reference/algorithms/generated/networkx.algorithms.components.connected_components.html#networkx.algorithms.components.connected_components) and [`subgraph()`](https://networkx.github.io/documentation/stable/reference/classes/generated/networkx.Graph.subgraph.html) functions of NetworkX).\n",
        "- What is the proportion of nodes that belong to the largest connected component?"
      ]
    },
    {
      "cell_type": "code",
      "metadata": {
        "colab_type": "code",
        "id": "AUoGRxN3Raq7",
        "colab": {
          "base_uri": "https://localhost:8080/",
          "height": 86
        },
        "outputId": "b40c40c4-7749-487f-f31d-8581879f6686"
      },
      "source": [
        "print(\"Number of connected components:\", nx.number_connected_components(G))\n",
        "\n",
        "largest_cc = max(nx.connected_components(G), key=len)\n",
        "print(\"Number of nodes in giant connected component:\", len(largest_cc))\n",
        "\n",
        "GC = G.subgraph(largest_cc)\n",
        "print(\"Number of edges of giant component:\", GC.number_of_edges())\n",
        "print(\"Proportion of nodes in giant connected component:\", len(largest_cc)/G.number_of_nodes())"
      ],
      "execution_count": null,
      "outputs": [
        {
          "output_type": "stream",
          "text": [
            "Number of connected components: 355\n",
            "Number of nodes in giant connected component: 4158\n",
            "Number of edges of giant component: 13422\n",
            "Proportion of nodes in giant connected component: 0.7932086989698588\n"
          ],
          "name": "stdout"
        }
      ]
    },
    {
      "cell_type": "markdown",
      "metadata": {
        "colab_type": "text",
        "id": "T8Xp0z4mRarE"
      },
      "source": [
        "We will next analyze the degree distribution of the graph.\n",
        "\n",
        "<u>Tasks</u>:\n",
        "- Run the following code to extract the degree sequence of the graph."
      ]
    },
    {
      "cell_type": "code",
      "metadata": {
        "colab_type": "code",
        "id": "H8FGxz_zRarH",
        "colab": {
          "base_uri": "https://localhost:8080/",
          "height": 54
        },
        "outputId": "504f5e81-fe4d-4923-dc8a-73a3ccabb468"
      },
      "source": [
        "degree_sequence = list(dict(GC.degree()).values())\n",
        "print(degree_sequence)"
      ],
      "execution_count": null,
      "outputs": [
        {
          "output_type": "stream",
          "text": [
            "[8, 5, 2, 5, 13, 10, 17, 3, 4, 8, 3, 34, 7, 10, 2, 17, 25, 8, 1, 21, 29, 3, 2, 14, 12, 11, 4, 20, 1, 4, 2, 24, 13, 8, 6, 4, 18, 7, 1, 1, 16, 32, 9, 10, 22, 23, 1, 7, 16, 23, 6, 2, 2, 32, 9, 7, 1, 4, 3, 2, 6, 5, 6, 4, 2, 3, 3, 30, 17, 9, 25, 9, 68, 31, 15, 9, 31, 68, 5, 13, 11, 22, 21, 20, 25, 4, 9, 9, 6, 20, 13, 14, 27, 8, 3, 7, 13, 14, 9, 4, 63, 81, 30, 77, 22, 4, 37, 1, 2, 9, 1, 6, 6, 1, 2, 4, 18, 18, 2, 2, 4, 19, 11, 2, 2, 5, 7, 2, 2, 1, 7, 1, 3, 16, 2, 6, 3, 5, 4, 5, 1, 10, 3, 11, 20, 21, 18, 18, 9, 2, 8, 4, 21, 2, 9, 5, 2, 62, 18, 12, 10, 11, 1, 12, 5, 13, 4, 7, 4, 5, 3, 2, 11, 3, 12, 13, 2, 1, 3, 12, 4, 1, 3, 3, 33, 7, 4, 5, 10, 12, 3, 10, 6, 3, 9, 11, 2, 2, 2, 4, 5, 8, 10, 4, 3, 30, 2, 8, 5, 7, 7, 12, 16, 10, 3, 2, 2, 7, 3, 49, 7, 3, 8, 12, 11, 13, 18, 10, 26, 9, 12, 2, 6, 2, 12, 2, 11, 8, 22, 26, 13, 12, 38, 19, 2, 4, 11, 11, 14, 17, 29, 27, 15, 11, 30, 5, 21, 49, 42, 48, 55, 56, 47, 65, 45, 49, 1, 54, 45, 43, 1, 46, 45, 56, 45, 49, 45, 77, 48, 4, 57, 45, 46, 60, 45, 4, 66, 45, 47, 45, 45, 45, 47, 79, 67, 48, 6, 47, 53, 51, 56, 51, 7, 1, 31, 4, 16, 1, 4, 6, 4, 2, 5, 22, 14, 3, 5, 6, 7, 4, 26, 1, 9, 22, 2, 3, 3, 3, 1, 3, 3, 20, 7, 5, 5, 3, 7, 4, 8, 8, 7, 26, 5, 14, 33, 8, 2, 11, 21, 2, 15, 22, 4, 16, 4, 2, 7, 22, 3, 5, 6, 31, 2, 30, 11, 1, 3, 28, 22, 5, 3, 8, 15, 26, 17, 5, 8, 2, 8, 3, 1, 1, 7, 4, 3, 12, 13, 3, 18, 5, 6, 6, 6, 3, 25, 18, 23, 16, 7, 9, 9, 9, 3, 1, 4, 2, 7, 1, 13, 1, 13, 6, 1, 2, 1, 17, 24, 19, 6, 3, 3, 3, 3, 10, 3, 3, 3, 16, 6, 9, 7, 9, 16, 7, 10, 15, 8, 3, 10, 1, 1, 5, 5, 15, 4, 28, 4, 17, 5, 5, 3, 4, 26, 4, 12, 1, 3, 5, 11, 16, 25, 4, 19, 8, 4, 5, 2, 4, 13, 3, 12, 2, 4, 1, 3, 10, 3, 3, 2, 2, 11, 2, 2, 1, 2, 8, 13, 3, 3, 15, 17, 3, 17, 15, 22, 9, 17, 17, 12, 20, 9, 17, 17, 17, 5, 8, 17, 8, 3, 7, 9, 5, 13, 3, 2, 4, 2, 14, 16, 30, 13, 17, 7, 6, 8, 8, 2, 24, 16, 7, 7, 14, 4, 20, 9, 9, 17, 6, 24, 8, 44, 6, 18, 10, 6, 9, 2, 3, 3, 5, 8, 2, 2, 18, 3, 6, 4, 4, 3, 8, 1, 2, 8, 2, 16, 8, 10, 8, 2, 1, 11, 2, 45, 16, 1, 1, 10, 10, 2, 1, 2, 1, 8, 17, 7, 6, 6, 6, 8, 1, 2, 1, 2, 10, 12, 5, 2, 3, 3, 3, 5, 19, 1, 3, 12, 13, 6, 10, 8, 14, 19, 7, 3, 7, 6, 15, 7, 15, 11, 3, 6, 3, 11, 34, 2, 9, 6, 2, 9, 5, 8, 5, 11, 6, 3, 3, 10, 2, 6, 4, 14, 4, 1, 1, 2, 11, 3, 35, 7, 2, 3, 4, 4, 10, 10, 2, 3, 5, 5, 2, 8, 7, 2, 6, 17, 3, 3, 1, 2, 23, 3, 3, 22, 2, 19, 13, 8, 3, 33, 14, 12, 6, 8, 4, 1, 1, 10, 15, 9, 3, 4, 8, 1, 12, 2, 2, 7, 10, 5, 1, 11, 11, 2, 7, 5, 3, 3, 1, 9, 3, 1, 1, 6, 9, 4, 6, 1, 1, 7, 2, 11, 2, 12, 7, 4, 4, 1, 1, 3, 3, 3, 7, 2, 15, 5, 23, 1, 12, 15, 3, 3, 10, 12, 8, 6, 5, 20, 15, 5, 6, 3, 1, 2, 2, 1, 2, 13, 6, 2, 3, 1, 8, 14, 10, 3, 19, 3, 2, 4, 2, 3, 5, 8, 3, 4, 3, 1, 4, 28, 4, 2, 37, 7, 2, 2, 6, 1, 2, 11, 4, 1, 1, 8, 5, 2, 15, 5, 10, 2, 1, 4, 3, 3, 5, 2, 20, 2, 7, 1, 7, 4, 3, 16, 2, 4, 1, 2, 2, 2, 3, 3, 3, 3, 2, 3, 2, 3, 10, 5, 4, 2, 4, 9, 4, 2, 21, 7, 9, 10, 4, 2, 5, 7, 4, 10, 6, 3, 11, 10, 1, 10, 7, 5, 6, 1, 3, 2, 2, 7, 5, 5, 15, 3, 13, 4, 2, 8, 17, 11, 18, 7, 11, 6, 6, 4, 2, 2, 1, 6, 2, 2, 2, 2, 2, 2, 3, 1, 3, 9, 4, 4, 3, 2, 8, 5, 6, 2, 1, 12, 14, 4, 4, 10, 4, 7, 4, 1, 3, 13, 3, 5, 10, 8, 9, 17, 2, 6, 4, 3, 9, 9, 2, 5, 4, 3, 10, 6, 13, 7, 6, 7, 10, 1, 1, 10, 3, 1, 1, 1, 20, 6, 2, 3, 6, 3, 5, 6, 5, 5, 3, 13, 2, 4, 19, 3, 3, 8, 16, 12, 9, 13, 6, 5, 5, 21, 13, 11, 3, 10, 25, 12, 3, 3, 18, 3, 4, 4, 7, 3, 1, 1, 15, 2, 2, 9, 1, 14, 4, 1, 4, 3, 2, 4, 4, 15, 2, 19, 3, 6, 1, 8, 5, 6, 3, 15, 6, 3, 1, 14, 7, 2, 14, 2, 9, 12, 8, 8, 28, 4, 3, 9, 12, 45, 5, 12, 21, 7, 5, 5, 6, 5, 1, 2, 4, 2, 1, 3, 6, 1, 1, 2, 15, 5, 4, 2, 10, 5, 1, 2, 2, 3, 25, 9, 10, 17, 19, 10, 6, 7, 10, 12, 10, 2, 1, 28, 9, 9, 17, 7, 4, 12, 3, 3, 26, 10, 8, 27, 14, 10, 3, 7, 6, 3, 9, 5, 7, 1, 2, 9, 3, 2, 2, 3, 2, 3, 7, 7, 3, 3, 9, 2, 2, 10, 17, 9, 8, 3, 6, 3, 3, 1, 1, 2, 1, 1, 1, 2, 10, 2, 5, 2, 3, 15, 4, 1, 2, 2, 1, 1, 10, 5, 6, 1, 9, 2, 1, 4, 1, 9, 8, 7, 6, 6, 10, 6, 6, 10, 2, 5, 2, 3, 3, 1, 6, 3, 4, 7, 3, 12, 7, 6, 15, 8, 10, 5, 7, 3, 5, 1, 1, 1, 5, 1, 2, 3, 2, 1, 5, 3, 7, 2, 2, 5, 6, 3, 2, 2, 5, 3, 2, 1, 2, 8, 4, 7, 13, 5, 4, 4, 4, 3, 2, 2, 11, 7, 3, 3, 4, 21, 8, 8, 3, 10, 5, 1, 3, 2, 13, 30, 4, 2, 3, 3, 5, 2, 3, 8, 6, 1, 7, 2, 4, 5, 2, 1, 1, 4, 3, 42, 42, 42, 42, 42, 31, 42, 33, 42, 42, 42, 33, 31, 42, 41, 43, 42, 33, 31, 42, 42, 59, 33, 34, 41, 42, 42, 42, 36, 34, 31, 33, 42, 42, 2, 41, 31, 33, 34, 5, 40, 4, 5, 4, 5, 4, 6, 6, 4, 2, 6, 2, 11, 1, 6, 6, 4, 19, 10, 5, 8, 4, 5, 5, 2, 3, 6, 3, 7, 8, 7, 6, 2, 3, 6, 2, 6, 4, 2, 3, 3, 3, 10, 2, 6, 4, 2, 8, 1, 5, 7, 11, 3, 8, 2, 11, 2, 5, 1, 3, 6, 2, 3, 2, 9, 17, 21, 7, 7, 3, 3, 5, 1, 10, 1, 8, 1, 5, 1, 3, 3, 3, 1, 6, 2, 1, 4, 2, 4, 7, 5, 2, 5, 3, 17, 2, 4, 5, 2, 3, 3, 3, 19, 2, 1, 13, 1, 2, 7, 3, 2, 3, 4, 2, 4, 3, 2, 2, 2, 4, 2, 16, 3, 5, 3, 2, 1, 1, 2, 1, 7, 7, 7, 7, 7, 8, 1, 9, 2, 1, 3, 9, 1, 3, 3, 8, 1, 1, 5, 2, 8, 4, 1, 4, 2, 2, 1, 5, 2, 1, 1, 1, 2, 2, 7, 10, 3, 12, 2, 1, 5, 11, 2, 6, 4, 4, 6, 10, 4, 7, 4, 4, 3, 3, 6, 3, 10, 1, 2, 1, 6, 3, 2, 4, 2, 6, 6, 4, 4, 6, 4, 1, 5, 4, 1, 2, 22, 4, 5, 5, 1, 3, 2, 5, 9, 6, 11, 2, 4, 2, 3, 6, 8, 1, 4, 6, 2, 1, 4, 11, 2, 2, 4, 1, 4, 2, 7, 4, 3, 5, 3, 1, 4, 14, 2, 7, 6, 2, 10, 7, 12, 5, 3, 13, 2, 18, 5, 1, 13, 3, 7, 5, 2, 17, 6, 2, 2, 8, 2, 3, 2, 5, 8, 3, 14, 12, 3, 5, 5, 6, 5, 5, 5, 3, 9, 3, 3, 4, 10, 10, 12, 3, 3, 2, 3, 2, 4, 2, 6, 1, 6, 4, 8, 4, 2, 3, 2, 2, 1, 4, 4, 21, 4, 11, 6, 2, 1, 3, 7, 3, 13, 3, 3, 8, 4, 8, 4, 19, 7, 4, 3, 1, 1, 16, 5, 2, 2, 1, 2, 2, 5, 4, 1, 4, 2, 4, 2, 1, 1, 6, 3, 2, 2, 3, 5, 3, 3, 2, 7, 2, 2, 2, 2, 4, 1, 2, 4, 4, 4, 3, 2, 2, 1, 1, 11, 4, 2, 3, 2, 1, 1, 2, 2, 2, 1, 1, 5, 1, 2, 10, 9, 1, 9, 9, 2, 1, 9, 2, 3, 3, 12, 13, 6, 4, 4, 3, 5, 6, 2, 1, 2, 7, 2, 2, 16, 2, 32, 6, 5, 8, 1, 1, 1, 9, 4, 1, 1, 4, 4, 6, 3, 3, 2, 11, 5, 5, 5, 5, 1, 1, 8, 4, 3, 6, 3, 2, 1, 3, 3, 1, 4, 5, 12, 11, 3, 4, 6, 2, 2, 2, 2, 2, 10, 7, 3, 3, 2, 9, 3, 3, 3, 12, 3, 10, 5, 4, 4, 4, 4, 4, 1, 15, 9, 1, 8, 9, 1, 1, 12, 1, 4, 1, 8, 1, 3, 18, 7, 7, 6, 4, 1, 2, 11, 4, 5, 4, 8, 4, 13, 13, 1, 2, 1, 4, 1, 6, 3, 4, 3, 2, 6, 2, 9, 3, 1, 2, 3, 3, 2, 2, 1, 2, 7, 3, 3, 13, 4, 4, 4, 6, 3, 8, 1, 1, 5, 2, 8, 2, 3, 4, 3, 3, 4, 1, 4, 3, 6, 2, 4, 2, 2, 11, 4, 9, 5, 9, 4, 5, 5, 3, 3, 3, 5, 6, 5, 5, 4, 5, 13, 11, 5, 7, 1, 1, 1, 1, 13, 2, 9, 8, 1, 3, 1, 17, 17, 17, 17, 17, 17, 17, 17, 17, 17, 17, 17, 17, 17, 17, 37, 17, 20, 20, 20, 20, 20, 20, 20, 20, 20, 20, 20, 20, 20, 20, 20, 20, 20, 1, 2, 2, 2, 6, 3, 5, 6, 2, 2, 2, 3, 6, 3, 2, 2, 3, 3, 2, 2, 3, 2, 6, 1, 2, 6, 3, 2, 2, 3, 4, 5, 3, 1, 2, 2, 1, 5, 2, 2, 6, 11, 5, 4, 3, 3, 4, 6, 3, 6, 1, 2, 1, 1, 5, 24, 3, 3, 3, 13, 3, 5, 6, 5, 4, 5, 15, 5, 2, 3, 3, 10, 8, 6, 6, 23, 3, 7, 1, 8, 5, 3, 3, 2, 4, 4, 2, 7, 3, 2, 6, 6, 2, 1, 1, 1, 2, 1, 4, 3, 1, 7, 12, 2, 2, 23, 9, 4, 2, 2, 4, 2, 3, 2, 1, 1, 2, 4, 1, 1, 4, 1, 3, 4, 3, 2, 7, 2, 2, 2, 2, 2, 1, 1, 2, 3, 2, 1, 7, 2, 7, 4, 5, 1, 2, 3, 5, 2, 2, 4, 1, 3, 2, 4, 3, 1, 6, 4, 3, 5, 5, 3, 15, 1, 9, 1, 8, 1, 24, 18, 2, 10, 8, 3, 2, 5, 5, 2, 2, 3, 2, 1, 2, 3, 13, 2, 2, 2, 1, 3, 3, 2, 4, 5, 1, 1, 2, 2, 1, 2, 1, 2, 1, 13, 1, 6, 11, 1, 19, 2, 5, 1, 1, 3, 1, 1, 4, 4, 4, 7, 3, 7, 6, 6, 1, 7, 1, 1, 1, 1, 1, 2, 2, 1, 1, 6, 8, 1, 1, 1, 2, 1, 1, 5, 1, 2, 3, 2, 1, 25, 2, 2, 1, 5, 4, 6, 1, 4, 4, 2, 11, 1, 2, 9, 4, 4, 4, 6, 3, 6, 14, 2, 3, 3, 4, 3, 2, 2, 5, 2, 2, 2, 1, 5, 13, 6, 8, 3, 3, 3, 3, 2, 4, 3, 1, 1, 3, 6, 12, 3, 12, 2, 1, 1, 14, 8, 2, 2, 1, 3, 3, 2, 3, 2, 1, 6, 1, 3, 3, 2, 1, 1, 6, 18, 6, 6, 5, 5, 7, 3, 3, 3, 1, 4, 10, 6, 3, 2, 8, 8, 1, 1, 2, 1, 1, 2, 3, 3, 3, 3, 4, 1, 1, 3, 2, 3, 5, 2, 1, 3, 5, 8, 3, 2, 3, 2, 2, 7, 4, 5, 2, 2, 6, 5, 3, 3, 3, 2, 1, 3, 5, 2, 1, 1, 10, 4, 4, 3, 4, 3, 1, 1, 1, 1, 3, 2, 7, 4, 3, 7, 3, 9, 3, 3, 2, 5, 3, 4, 1, 2, 3, 5, 1, 5, 8, 2, 5, 4, 3, 1, 3, 4, 10, 4, 7, 10, 2, 2, 4, 4, 3, 3, 10, 1, 2, 1, 1, 1, 8, 2, 2, 4, 4, 6, 4, 4, 4, 1, 3, 2, 4, 3, 3, 2, 3, 4, 5, 6, 6, 4, 3, 3, 3, 3, 1, 5, 3, 3, 7, 2, 2, 2, 5, 14, 4, 9, 4, 4, 1, 2, 2, 4, 2, 2, 2, 2, 3, 8, 3, 4, 10, 4, 1, 5, 1, 3, 3, 3, 2, 3, 1, 3, 4, 2, 4, 2, 2, 2, 4, 8, 1, 2, 6, 8, 6, 1, 3, 2, 3, 13, 3, 3, 1, 6, 11, 13, 4, 2, 2, 7, 10, 9, 3, 9, 4, 7, 4, 4, 4, 2, 2, 9, 9, 9, 3, 3, 7, 4, 3, 9, 12, 3, 3, 3, 6, 1, 2, 2, 2, 3, 5, 11, 1, 12, 3, 1, 1, 2, 2, 1, 3, 2, 1, 2, 1, 3, 3, 5, 2, 4, 2, 3, 2, 1, 4, 2, 2, 1, 3, 2, 4, 1, 1, 2, 2, 4, 2, 9, 13, 9, 9, 9, 4, 5, 3, 6, 2, 2, 2, 2, 2, 7, 11, 3, 10, 2, 1, 2, 1, 4, 8, 4, 3, 8, 6, 6, 3, 2, 2, 3, 2, 14, 14, 8, 14, 18, 14, 14, 14, 14, 14, 2, 14, 2, 14, 14, 14, 14, 4, 4, 1, 1, 9, 2, 7, 5, 4, 4, 2, 4, 4, 6, 4, 4, 4, 1, 5, 7, 1, 4, 2, 8, 3, 2, 4, 1, 1, 1, 1, 1, 8, 1, 3, 5, 4, 3, 2, 4, 3, 2, 6, 2, 5, 2, 3, 3, 3, 1, 1, 13, 5, 5, 3, 5, 4, 2, 6, 1, 5, 1, 1, 4, 5, 4, 4, 3, 7, 4, 1, 8, 8, 3, 2, 4, 5, 2, 3, 5, 6, 3, 2, 10, 2, 8, 24, 2, 2, 3, 1, 3, 6, 1, 4, 1, 2, 2, 1, 1, 1, 3, 9, 4, 3, 3, 1, 4, 1, 2, 3, 1, 4, 15, 2, 1, 2, 3, 3, 4, 2, 3, 6, 3, 2, 2, 1, 3, 3, 4, 5, 1, 5, 4, 4, 3, 1, 2, 5, 4, 3, 3, 3, 2, 4, 8, 2, 2, 3, 2, 7, 1, 1, 2, 1, 3, 1, 5, 4, 6, 4, 3, 4, 5, 3, 1, 2, 1, 6, 3, 5, 1, 1, 4, 3, 4, 3, 4, 5, 8, 7, 4, 3, 2, 4, 1, 1, 1, 2, 1, 1, 1, 7, 6, 1, 5, 3, 1, 3, 4, 1, 2, 3, 1, 6, 5, 1, 5, 2, 2, 1, 1, 4, 4, 3, 3, 6, 4, 4, 20, 8, 2, 3, 9, 4, 2, 2, 2, 3, 8, 1, 15, 3, 2, 4, 3, 3, 2, 2, 1, 1, 2, 4, 4, 2, 4, 4, 2, 4, 4, 1, 4, 4, 1, 1, 5, 2, 2, 1, 1, 6, 3, 3, 3, 3, 2, 2, 3, 6, 2, 1, 3, 3, 4, 1, 1, 8, 8, 4, 8, 8, 4, 8, 8, 2, 4, 1, 2, 2, 5, 1, 2, 3, 3, 2, 1, 4, 5, 1, 8, 2, 2, 1, 4, 1, 2, 2, 2, 2, 2, 17, 2, 1, 3, 3, 1, 1, 9, 8, 4, 7, 10, 2, 7, 1, 7, 4, 4, 5, 10, 7, 1, 1, 1, 1, 2, 3, 2, 2, 3, 2, 2, 3, 2, 2, 2, 1, 7, 4, 2, 5, 1, 5, 18, 1, 8, 3, 3, 6, 2, 1, 7, 1, 3, 1, 1, 29, 1, 3, 2, 2, 8, 1, 2, 2, 1, 2, 2, 1, 2, 4, 1, 3, 2, 2, 6, 3, 4, 5, 1, 3, 3, 2, 3, 1, 2, 2, 2, 2, 3, 3, 13, 4, 37, 4, 7, 10, 12, 6, 2, 3, 4, 3, 5, 2, 6, 3, 2, 3, 11, 7, 8, 8, 10, 8, 7, 7, 2, 4, 4, 6, 3, 3, 5, 3, 3, 1, 2, 1, 3, 3, 1, 4, 3, 5, 5, 1, 2, 1, 3, 1, 3, 1, 5, 6, 6, 9, 9, 3, 2, 3, 1, 2, 3, 2, 1, 1, 4, 4, 4, 11, 13, 4, 3, 5, 3, 3, 1, 2, 3, 1, 2, 3, 1, 4, 3, 1, 4, 11, 4, 4, 1, 4, 4, 2, 2, 3, 2, 3, 3, 1, 1, 2, 2, 5, 1, 3, 3, 1, 1, 4, 5, 4, 5, 4, 3, 3, 2, 1, 3, 2, 6, 5, 1, 18, 14, 14, 7, 7, 3, 1, 1, 9, 2, 3, 1, 4, 10, 1, 1, 2, 1, 1, 3, 3, 3, 1, 4, 2, 2, 2, 2, 3, 3, 2, 1, 2, 2, 2, 6, 1, 1, 5, 1, 1, 1, 3, 4, 6, 3, 3, 5, 1, 2, 2, 1, 2, 1, 3, 1, 1, 4, 4, 2, 4, 2, 3, 4, 3, 3, 10, 3, 3, 3, 2, 3, 3, 3, 3, 3, 1, 1, 2, 4, 5, 2, 3, 2, 3, 3, 1, 4, 4, 6, 6, 3, 5, 3, 1, 2, 1, 1, 1, 1, 1, 1, 5, 1, 1, 2, 7, 4, 5, 4, 4, 3, 4, 3, 3, 2, 1, 1, 6, 4, 4, 1, 2, 3, 3, 2, 2, 3, 2, 2, 6, 7, 1, 1, 1, 1, 2, 2, 1, 2, 2, 3, 3, 3, 3, 5, 6, 3, 5, 4, 5, 4, 3, 3, 2, 1, 2, 2, 3, 3, 1, 3, 3, 1, 1, 8, 2, 1, 3, 4, 3, 3, 2, 1, 6, 2, 5, 3, 1, 3, 3, 2, 3, 11, 2, 5, 4, 3, 2, 4, 3, 5, 4, 3, 1, 5, 2, 5, 2, 2, 5, 2, 6, 2, 3, 1, 10, 8, 2, 5, 1, 5, 5, 2, 2, 5, 3, 3, 4, 9, 7, 7, 7, 7, 8, 8, 14, 8, 8, 8, 8, 8, 8, 8, 8, 8, 8, 8, 2, 1, 1, 1, 1, 1, 1, 2, 2, 1, 4, 4, 2, 3, 3, 1, 4, 7, 3, 2, 3, 3, 7, 4, 3, 7, 1, 2, 3, 13, 13, 19, 13, 1, 13, 13, 13, 15, 13, 13, 13, 15, 1, 2, 4, 1, 2, 1, 2, 4, 4, 4, 1, 8, 1, 2, 2, 2, 2, 2, 3, 1, 3, 3, 6, 8, 5, 2, 10, 2, 2, 1, 2, 1, 2, 2, 2, 2, 1, 1, 3, 1, 15, 11, 15, 15, 11, 4, 15, 4, 11, 11, 11, 4, 4, 10, 1, 1, 2, 2, 8, 3, 3, 3, 3, 4, 3, 2, 2, 3, 3, 3, 3, 3, 3, 3, 3, 3, 3, 1, 1, 4, 1, 1, 1, 2, 6, 5, 4, 4, 6, 4, 1, 2, 4, 3, 1, 1, 2, 2, 6, 5, 4, 30, 10, 16, 23, 23, 23, 19, 23, 23, 23, 21, 23, 23, 23, 23, 4, 23, 21, 24, 23, 23, 3, 21, 21, 19, 23, 3, 3, 1, 2, 2, 1, 1, 6, 3, 1, 3, 1, 3, 3, 3, 1, 8, 5, 1, 2, 2, 3, 1, 3, 3, 2, 7, 3, 2, 3, 7, 6, 3, 23, 23, 23, 23, 23, 23, 23, 23, 23, 23, 23, 23, 23, 23, 23, 23, 23, 23, 23, 23, 23, 23, 23, 3, 3, 3, 2, 4, 4, 4, 2, 2, 2, 1, 3, 3, 3, 1, 3, 1, 2, 2, 1, 3, 3, 3, 3, 2, 4, 4, 4, 4, 3, 3, 1, 1, 5, 3, 9, 2, 3, 2, 5, 4, 2, 2, 3, 3, 3, 3, 1, 2, 1, 1, 5, 2, 1, 1, 1, 1, 1, 1, 7, 2, 1, 2, 1, 1, 1, 4, 4, 4, 4, 1, 1, 2, 2, 2, 4, 3, 1, 1, 2, 2, 2, 1, 2, 5, 1, 2, 3, 5, 2, 1, 2, 4, 3, 3, 2, 3, 2, 6, 6, 2, 3, 2, 5, 5, 5, 10, 5, 11, 5, 11, 5, 5, 3, 2, 1, 1, 2, 34, 34, 34, 34, 34, 34, 34, 36, 34, 34, 34, 34, 34, 34, 34, 34, 34, 34, 34, 37, 34, 34, 34, 34, 34, 34, 34, 34, 34, 34, 34, 34, 34, 34, 3, 3, 3, 2, 1, 1, 3, 6, 2, 4, 1, 1, 3, 2, 1, 3, 2, 1, 5, 1, 2, 1, 1, 1, 2, 2, 2, 2, 1, 2, 2, 2, 4, 1, 3, 1, 1, 1, 1, 1, 1, 2, 5, 4, 4, 4, 1, 5, 3, 3, 2, 3, 13, 4, 6, 4, 8, 3, 4, 4, 4, 7, 4, 4, 3, 3, 1, 2, 3, 2, 1, 2, 2, 1, 2, 2, 2, 2, 2, 1, 1, 4, 2, 3, 2, 3, 3, 3, 1, 1, 1, 1, 6, 3, 3, 4, 5, 2, 4, 2, 2, 2, 1, 2, 1, 3, 3, 3, 3, 3, 3, 3, 9, 1, 2, 1, 4, 1, 7, 3, 1, 3, 4, 1, 1, 1, 2, 3, 3, 3, 8, 3, 3, 4, 2, 2, 2, 3, 2, 2, 2, 1, 2, 1, 3, 1, 1, 1, 3, 4, 3, 1, 1, 2, 3, 2, 2, 4, 2, 1, 2, 1, 2, 1, 3, 3, 3, 2, 2, 1, 1, 3, 2, 2, 2, 6, 6, 6, 6, 6, 6, 3, 9, 6, 6, 2, 6, 6, 2, 7, 3, 2, 2, 5, 3, 3, 3, 2, 1, 2, 2, 1, 7, 4, 3, 4, 3, 3, 6, 1, 4, 2, 2, 2, 2, 1, 1, 7, 5, 5, 2, 2, 3, 4, 6, 2, 2, 2, 2, 2, 4, 1, 1, 2, 2, 2, 1, 5, 3, 2, 4, 2, 1, 1, 1, 2, 2, 4, 1, 1, 1, 1, 1, 1, 1, 2, 2, 2, 1, 2, 1, 1, 1, 1, 2, 3, 3, 2, 3, 2, 2, 1, 1, 1, 1, 1, 4, 1, 2, 2, 15, 15, 15, 15, 15, 15, 15, 15, 15, 15, 15, 15, 15, 15, 15, 1, 2, 1, 2, 2, 1, 2, 1, 1, 1, 1, 1, 2, 2, 3, 3, 3, 2, 2, 2, 7, 7, 7, 7, 7, 1, 1, 1, 5, 1, 1, 1, 1, 3, 4, 1, 2, 1, 1, 2, 1, 4, 2, 2, 2, 2, 1, 1, 5, 1, 2, 1, 3, 3, 3, 2, 2, 1, 1, 2, 2, 1, 3, 3, 1, 1, 2, 2, 2, 2, 1, 1, 4, 2, 3, 1, 1, 2, 1, 2, 2, 2, 4, 11, 16, 16, 11, 11, 16, 16, 11, 11, 16, 10, 10, 10, 10, 10, 3, 3, 2, 2, 2, 2, 2, 1, 2, 2, 1, 2, 2, 1, 1, 2, 2, 1, 2, 2, 3, 2, 2, 4, 1, 4, 4, 4, 1, 1, 3, 2, 2, 1, 9, 9, 9, 9, 9, 8, 9, 9, 2, 2, 3, 4, 5, 4, 2, 2, 2, 1, 1, 1, 2, 1, 1, 2, 2, 1, 3, 3, 3, 1, 1, 1, 1, 1, 1, 1, 1, 1, 1]\n"
          ],
          "name": "stdout"
        }
      ]
    },
    {
      "cell_type": "markdown",
      "metadata": {
        "colab_type": "text",
        "id": "2-6wjrhhRarO"
      },
      "source": [
        "<u>Tasks</u>:\n",
        "- Find and print the minimum, maximum, median and mean degree of the nodes of the graph (you can use the built-in functions `min, max, median` and `mean` of the `NumPy` library)"
      ]
    },
    {
      "cell_type": "code",
      "metadata": {
        "colab_type": "code",
        "id": "Wgnehlm4RarP",
        "colab": {
          "base_uri": "https://localhost:8080/",
          "height": 86
        },
        "outputId": "b2705942-2e92-444a-ffc4-fcf26eeb3581"
      },
      "source": [
        "import numpy as np\n",
        "\n",
        "print(\"Minimum Degree:\", np.min(degree_sequence))\n",
        "print(\"Maximum Degree:\", np.max(degree_sequence))\n",
        "print(\"Median Degree:\", np.median(degree_sequence))\n",
        "print(\"Mean Degree:\", np.mean(degree_sequence))"
      ],
      "execution_count": null,
      "outputs": [
        {
          "output_type": "stream",
          "text": [
            "Minimum Degree: 1\n",
            "Maximum Degree: 81\n",
            "Median Degree: 3.0\n",
            "Mean Degree: 6.455988455988456\n"
          ],
          "name": "stdout"
        }
      ]
    },
    {
      "cell_type": "markdown",
      "metadata": {
        "colab_type": "text",
        "id": "DbKZYaUzRarX"
      },
      "source": [
        "Let's now compute and plot the degree distribution of the graph.\n",
        "\n",
        "<u>Tasks</u>:\n",
        "- Use the [`degree_histogram()`](https://networkx.github.io/documentation/stable/reference/generated/networkx.classes.function.degree_histogram.html#networkx.classes.function.degree_histogram) function of NetworkX to obtain a list of the frequency of each degree value.\n",
        "- Plot the degree histogram using the [`plot()`](http://matplotlib.org/api/pyplot_api.html#matplotlib.pyplot.plot) function of matplotlib."
      ]
    },
    {
      "cell_type": "code",
      "metadata": {
        "colab_type": "code",
        "id": "yORrKzG2RarZ",
        "colab": {
          "base_uri": "https://localhost:8080/",
          "height": 296
        },
        "outputId": "fc1b69b1-4a2e-40c8-f29a-c29ec9d9eae1"
      },
      "source": [
        "import matplotlib.pyplot as plt\n",
        "%matplotlib inline\n",
        "\n",
        "hist = nx.degree_histogram(GC)\n",
        "plt.plot(hist)\n",
        "plt.xlabel('degree')\n",
        "plt.ylabel('frequency')"
      ],
      "execution_count": null,
      "outputs": [
        {
          "output_type": "execute_result",
          "data": {
            "text/plain": [
              "Text(0, 0.5, 'frequency')"
            ]
          },
          "metadata": {
            "tags": []
          },
          "execution_count": 18
        },
        {
          "output_type": "display_data",
          "data": {
            "image/png": "[encoded data removed]",
            "text/plain": [
              "<Figure size 432x288 with 1 Axes>"
            ]
          },
          "metadata": {
            "tags": [],
            "needs_background": "light"
          }
        }
      ]
    },
    {
      "cell_type": "markdown",
      "metadata": {
        "colab_type": "text",
        "id": "QZd91mTNRarh"
      },
      "source": [
        "<u>Tasks</u>:\n",
        "- Produce again the plot using a log-log axis (use the [`loglog()`](http://matplotlib.org/api/pyplot_api.html#matplotlib.pyplot.loglog) function of matplotlib)."
      ]
    },
    {
      "cell_type": "code",
      "metadata": {
        "colab_type": "code",
        "id": "xXcU2InBRari",
        "colab": {
          "base_uri": "https://localhost:8080/",
          "height": 303
        },
        "outputId": "9d061ac1-35d7-4b05-9590-8728d0edf053"
      },
      "source": [
        "plt.loglog(hist)\n",
        "plt.xlabel('degree')\n",
        "plt.ylabel('frequency')"
      ],
      "execution_count": null,
      "outputs": [
        {
          "output_type": "execute_result",
          "data": {
            "text/plain": [
              "Text(0, 0.5, 'frequency')"
            ]
          },
          "metadata": {
            "tags": []
          },
          "execution_count": 19
        },
        {
          "output_type": "display_data",
          "data": {
            "image/png": "[encoded data removed]",
            "text/plain": [
              "<Figure size 432x288 with 1 Axes>"
            ]
          },
          "metadata": {
            "tags": [],
            "needs_background": "light"
          }
        }
      ]
    },
    {
      "cell_type": "markdown",
      "metadata": {
        "colab_type": "text",
        "id": "Qcg14qDSRaro"
      },
      "source": [
        "Next, we will compute the average clustering coefficient of the graph, which is a measure of the degree to which nodes in a graph tend to cluster together, i.e., to create tightly knit groups characterized by a relatively high density of ties. The *global clustering coefficient* is based on triplets of nodes. A triplet consists of three nodes that are connected by either two (open triplet) or three (closed triplet) undirected ties. A triangle consists of three closed triplets, one centered on each of the nodes. The global clustering coefficient is the number of closed triplets (or $3$ $\\times$ triangles) over the total number of triplets (both open and closed).\n",
        "\n",
        "<u>Tasks</u>:\n",
        "- Use the [`average_clustering()`](https://networkx.github.io/documentation/stable/reference/algorithms/generated/networkx.algorithms.cluster.average_clustering.html#networkx.algorithms.cluster.average_clustering) function of NetworkX to compute the average clustering coefficient of the graph."
      ]
    },
    {
      "cell_type": "code",
      "metadata": {
        "colab_type": "code",
        "id": "4XbhWZ5jRarp",
        "colab": {
          "base_uri": "https://localhost:8080/",
          "height": 34
        },
        "outputId": "6bea5688-ff3d-44d1-8a0d-81b4aef94fdc"
      },
      "source": [
        "print(\"Clustering coefficient:\", nx.average_clustering(GC))"
      ],
      "execution_count": null,
      "outputs": [
        {
          "output_type": "stream",
          "text": [
            "Clustering coefficient: 0.5568782161697923\n"
          ],
          "name": "stdout"
        }
      ]
    },
    {
      "cell_type": "markdown",
      "metadata": {
        "colab_type": "text",
        "id": "KmBVVSNmRarv"
      },
      "source": [
        "Let's now repeat some parts of the above experiment for a random graph. A *random graph* is obtained by starting with a set of $n$ isolated vertices and adding successive edges between them at random. In our case, we will create a random graph using the Erdos-Renyi $G(n,p)$ random graph model, where the graph contains $n$ nodes and each of the edges is included with probability $p$.\n",
        "\n",
        "<u>Tasks</u>:\n",
        "- Create a random graph $R$ using the $G(1000, 0.1)$ model (i.e. 1000 nodes and $p=0.1$) (use the [`fast_gnp_random_graph()`](https://networkx.github.io/documentation/networkx-1.9.1/reference/generated/networkx.generators.random_graphs.fast_gnp_random_graph.html#networkx.generators.random_graphs.fast_gnp_random_graph) function of NetworkX)"
      ]
    },
    {
      "cell_type": "code",
      "metadata": {
        "colab_type": "code",
        "id": "AYHZPRKVRarx",
        "colab": {
          "base_uri": "https://localhost:8080/",
          "height": 52
        },
        "outputId": "a308422c-ce78-489b-ac0a-4e8ec2ca533e"
      },
      "source": [
        "R = nx.fast_gnp_random_graph(1000, 0.01)\n",
        "\n",
        "print('Number of nodes:', R.number_of_nodes())\n",
        "print('Number of edges:', R.number_of_edges())"
      ],
      "execution_count": null,
      "outputs": [
        {
          "output_type": "stream",
          "text": [
            "Number of nodes: 1000\n",
            "Number of edges: 5001\n"
          ],
          "name": "stdout"
        }
      ]
    },
    {
      "cell_type": "markdown",
      "metadata": {
        "colab_type": "text",
        "id": "zNPCsNcaRar3"
      },
      "source": [
        "<u>Tasks</u>:\n",
        "- Compute again the minimum, maximum, median and mean degree of the nodes of the graph.\n",
        "- Plot the degree histogram of the graph."
      ]
    },
    {
      "cell_type": "code",
      "metadata": {
        "colab_type": "code",
        "id": "o4hMZLIqRar3",
        "colab": {
          "base_uri": "https://localhost:8080/",
          "height": 366
        },
        "outputId": "6f14bb26-cdcc-4137-94a7-73965bd9fe25"
      },
      "source": [
        "degree_sequence = list(dict(R.degree()).values())\n",
        "\n",
        "print(\"Minimum Degree:\", np.min(degree_sequence))\n",
        "print(\"Maximum Degree:\", np.max(degree_sequence))\n",
        "print(\"Median Degree:\", np.median(degree_sequence))\n",
        "print(\"Mean Degree:\", np.mean(degree_sequence))\n",
        "\n",
        "hist = nx.degree_histogram(R)\n",
        "plt.plot(hist)\n",
        "plt.xlabel('degree')\n",
        "plt.ylabel('frequency')"
      ],
      "execution_count": null,
      "outputs": [
        {
          "output_type": "stream",
          "text": [
            "Minimum Degree: 2\n",
            "Maximum Degree: 23\n",
            "Median Degree: 10.0\n",
            "Mean Degree: 9.98\n"
          ],
          "name": "stdout"
        },
        {
          "output_type": "execute_result",
          "data": {
            "text/plain": [
              "Text(0, 0.5, 'frequency')"
            ]
          },
          "metadata": {
            "tags": []
          },
          "execution_count": 34
        },
        {
          "output_type": "display_data",
          "data": {
            "image/png": "[encoded data removed]",
            "text/plain": [
              "<Figure size 432x288 with 1 Axes>"
            ]
          },
          "metadata": {
            "tags": [],
            "needs_background": "light"
          }
        }
      ]
    },
    {
      "cell_type": "markdown",
      "metadata": {
        "colab_type": "text",
        "id": "9BJ439LmRar-"
      },
      "source": [
        "In order to make more clear the difference of the structural properties between real-world (e.g. social networks, collaboration networks) and random networks, we can examine additional properties similar to the case of `CA-GrQc` previously. We will focus on the clustering properties, trying to stress out that random graphs do not inherently show a clustering structure.\n",
        "\n",
        "<u>Tasks</u>:\n",
        "- Compute the average clustering coefficient of the randomly generated graph."
      ]
    },
    {
      "cell_type": "code",
      "metadata": {
        "colab_type": "code",
        "id": "_wOeul5JRar_",
        "colab": {
          "base_uri": "https://localhost:8080/",
          "height": 34
        },
        "outputId": "71d1b688-412a-4724-b7c1-061f107811cb"
      },
      "source": [
        "print(\"Clustering coefficient:\", nx.average_clustering(R))"
      ],
      "execution_count": null,
      "outputs": [
        {
          "output_type": "stream",
          "text": [
            "Clustering coefficient: 0.009180242633183807\n"
          ],
          "name": "stdout"
        }
      ]
    },
    {
      "cell_type": "code",
      "metadata": {
        "id": "VsKDE0ruxsJV",
        "colab_type": "code",
        "colab": {
          "base_uri": "https://localhost:8080/",
          "height": 296
        },
        "outputId": "346f8e25-0e7e-4bfb-aaa5-da6332ac63e6"
      },
      "source": [
        "Q = nx.barabasi_albert_graph(1000, 5)\n",
        "hist = nx.degree_histogram(Q)\n",
        "plt.plot(hist)\n",
        "plt.xlabel('degree')\n",
        "plt.ylabel('frequency')"
      ],
      "execution_count": null,
      "outputs": [
        {
          "output_type": "execute_result",
          "data": {
            "text/plain": [
              "Text(0, 0.5, 'frequency')"
            ]
          },
          "metadata": {
            "tags": []
          },
          "execution_count": 32
        },
        {
          "output_type": "display_data",
          "data": {
            "image/png": "[encoded data removed]",
            "text/plain": [
              "<Figure size 432x288 with 1 Axes>"
            ]
          },
          "metadata": {
            "tags": [],
            "needs_background": "light"
          }
        }
      ]
    },
    {
      "cell_type": "markdown",
      "metadata": {
        "colab_type": "text",
        "id": "oULyHPRNRasd"
      },
      "source": [
        "## 3. Community Detection\n",
        "In the second part of the lab, we will focus on the community detection (or clustering) problem in graphs. Typically, a community corresponds to a set of nodes that highly interact among each other, compared to the intensity of interactions (as expressed by the number of edges) with the rest nodes of the graph. The experiments for this part will be performed in the *karate* dataset, a small dataset that has been used as a benchmark in several community detection algorithms. This dataset is a friendship social network between 34 members of a karate club at a US university in the 1970.\n",
        "\n",
        "<u>Tasks</u>:\n",
        "- Load the graph using the NetworkX library.\n",
        "- Print the number of nodes and the number of edges of the network."
      ]
    },
    {
      "cell_type": "code",
      "metadata": {
        "colab_type": "code",
        "id": "4k57PuNnRasf",
        "colab": {
          "base_uri": "https://localhost:8080/",
          "height": 52
        },
        "outputId": "4ae76b85-f5f9-4a99-cf64-5e553213c4d8"
      },
      "source": [
        "G = nx.read_edgelist(urllib.request.urlopen('http://www.db-net.aueb.gr/nikolentzos/dssp/graph_mining/data/karate.edgelist'), comments='#', delimiter=' ', create_using=nx.Graph())\n",
        "\n",
        "print(\"Number of nodes:\", G.number_of_nodes())\n",
        "print(\"Number of edges:\", G.number_of_edges())"
      ],
      "execution_count": null,
      "outputs": [
        {
          "output_type": "stream",
          "text": [
            "Number of nodes: 34\n",
            "Number of edges: 78\n"
          ],
          "name": "stdout"
        }
      ]
    },
    {
      "cell_type": "markdown",
      "metadata": {
        "colab_type": "text",
        "id": "JLrTajpFRasj"
      },
      "source": [
        "We will first implement and apply a very popular graph clustering algorithm, called Spectral Clustering. The basic idea of the algorithm is to utilize information associated to the spectrum of the graph, in order to identify well-separated clusters. The pseudocode of Spectral Clustering is shown below:\n",
        "\n",
        "1. Let $\\mathbf{A}$ be the adjacency matrix of the graph\n",
        "2. Compute the Laplacian matrix $\\mathbf{L} = \\mathbf{D}−\\mathbf{A}$. Matrix $\\mathbf{D}$ corresponds to the diagonal degree matrix of graph $G$ (i.e., degree of each node $v$ (= number of neighbors) in the main diagonal)\n",
        "3. Apply eigenvalue decomposition to the Laplacian matrix $\\mathbf{L}$ and compute the eigenvectors that correspond to $k$ smallest eigenvalues. Let $\\mathbf{U} = [\\mathbf{u}_1|\\mathbf{u}_2| \\ldots |\\mathbf{u}_k] \\in \\mathbb{R}^{n \\times k}$ be the matrix containing these eigenvectors as columns\n",
        "4. For $i = 1,\\ldots,n$, let $y_i \\in \\mathbb{R}^k$ be the vector corresponding to the $i$-th row of $\\mathbf{U}$. Apply $k$-means to the points $(y_i)_{i=1,\\ldots,n}$ (i.e., the rows of $\\mathbf{U}$) and find clusters $C_1, C_2, \\ldots, C_k$\n",
        "\n",
        "<u>Tasks</u>:\n",
        "- Implement the Spectral Clustering algorithm. To compute the Laplacian matrix $\\mathbf{L}$, you can use the [`laplacian_matrix()`](https://networkx.github.io/documentation/stable/reference/generated/networkx.linalg.laplacianmatrix.laplacian_matrix.html#networkx.linalg.laplacianmatrix.laplacian_matrix) function of NetworkX. To decompose the Laplacian matrix, you can use the [`eigs()`](https://docs.scipy.org/doc/scipy/reference/generated/scipy.sparse.linalg.eigs.html) function of SciPy. Finally, to perform k-means, you can use scikit-learn's [implementation](https://scikit-learn.org/stable/modules/generated/sklearn.cluster.KMeans.html) of the algorithm. The Spectral Clustering algorithm must return a dictionary keyed by node to the cluster to which the node belongs.\n",
        "- After implementing the algorithm, apply it to the `karate` dataset, trying to identify 2 clusters."
      ]
    },
    {
      "cell_type": "code",
      "metadata": {
        "colab_type": "code",
        "id": "fi-lT0MeRask",
        "colab": {
          "base_uri": "https://localhost:8080/",
          "height": 54
        },
        "outputId": "817994be-b567-47c9-c058-51b9bb455739"
      },
      "source": [
        "from scipy.sparse.linalg import eigs\n",
        "from sklearn.cluster import KMeans\n",
        "\n",
        "def spectral_clustering(G, k):\n",
        "    \n",
        "    L = nx.laplacian_matrix(G).astype(np.float64)\n",
        "    eigvals, eigvec = eigs(L, k=k, which='SR')\n",
        "\n",
        "    #print(eigvec[:,0].real)\n",
        "    eigvec = eigvec[:,1:].real\n",
        "\n",
        "    kmeans = KMeans(n_clusters=k)\n",
        "    kmeans.fit(eigvec)\n",
        "\n",
        "    clustering = dict()\n",
        "    for i, node in enumerate(G.nodes()):\n",
        "      clustering[node] = kmeans.labels_[i]\n",
        "    \n",
        "    return clustering\n",
        "\n",
        "clustering = spectral_clustering(G, 2)\n",
        "print(clustering)"
      ],
      "execution_count": null,
      "outputs": [
        {
          "output_type": "stream",
          "text": [
            "{'1': 0, '2': 1, '3': 1, '4': 1, '5': 0, '6': 0, '7': 0, '8': 1, '9': 1, '10': 1, '11': 0, '12': 0, '13': 0, '14': 1, '17': 0, '18': 0, '20': 1, '22': 0, '24': 1, '26': 1, '25': 1, '28': 1, '29': 1, '30': 1, '27': 1, '31': 1, '32': 1, '33': 1, '15': 1, '16': 1, '19': 1, '21': 1, '23': 1, '34': 1}\n"
          ],
          "name": "stdout"
        }
      ]
    },
    {
      "cell_type": "markdown",
      "metadata": {
        "colab_type": "text",
        "id": "0Tl7nKkGRasp"
      },
      "source": [
        "We will next visualize the clustering result.\n",
        "\n",
        "<u>Task</u>:\n",
        "- Use the [`draw`](https://networkx.github.io/documentation/stable/reference/generated/networkx.drawing.nx_pylab.draw.html#networkx.drawing.nx_pylab.draw) function of NetworkX to visualize the `karate` network. Use the same color for all the nodes belonging to the same cluster."
      ]
    },
    {
      "cell_type": "code",
      "metadata": {
        "colab_type": "code",
        "id": "Z2LpwzTQRasq",
        "colab": {
          "base_uri": "https://localhost:8080/",
          "height": 336
        },
        "outputId": "8e5eb263-b278-4104-f02a-45c32646f8de"
      },
      "source": [
        "colors = [clustering[node] for node in G.nodes()]\n",
        "print(colors)\n",
        "\n",
        "nx.draw(G, node_color=colors)"
      ],
      "execution_count": null,
      "outputs": [
        {
          "output_type": "stream",
          "text": [
            "[0, 1, 1, 1, 0, 0, 0, 1, 1, 1, 0, 0, 0, 1, 0, 0, 1, 0, 1, 1, 1, 1, 1, 1, 1, 1, 1, 1, 1, 1, 1, 1, 1, 1]\n"
          ],
          "name": "stdout"
        },
        {
          "output_type": "display_data",
          "data": {
            "image/png": "[encoded data removed]",
            "text/plain": [
              "<Figure size 432x288 with 1 Axes>"
            ]
          },
          "metadata": {
            "tags": []
          }
        }
      ]
    },
    {
      "cell_type": "markdown",
      "metadata": {
        "colab_type": "text",
        "id": "7dDdsn9jRasv"
      },
      "source": [
        "To assess the quality of a clustering algorithm, several metrics have been proposed. Modularity is one of the most popular and widely used metrics to evaluate the quality of a network's partition into communities. Considering a specific partition of the network into clusters, modularity measures the number of edges that lie within a cluster compared to the expected number of edges of a null graph (or configuration model), i.e., a random graph with the same degree distribution. In other words, the measure of modularity is built upon the idea that random graphs are not expected to present inherent community structure; thus, comparing the observed density of a subgraph with the expected density of the same subgraph in case where edges are placed randomly, leads to a community evaluation metric. Modularity is given by the following formula:\n",
        "$$ Q = \\sum^{n_c} \\Bigg[ \\frac{l_c}{m} - \\Big(\\frac{d_c}{2m}\\Big)^2\\Bigg] $$\n",
        "where, $m=|E|$ is the total number of edges in the graph, $n_c$ is the number of communities in the graph, $l_c$ is the number of edges within the community $c$ and $d_c$ is the sum of the degrees of the nodes that belong to community $c$. Modularity takes values in the range $[-1, 1]$, with higher values indicating better community structure.\n",
        "\n",
        "<u>Task</u>:\n",
        "- Implement a function that given a graph and and an assignment of nodes to clusters, computes the modularity of the clustering result. Given a set of nodes, you can use the [`subgraph()`](https://networkx.github.io/documentation/stable/reference/classes/generated/networkx.Graph.subgraph.html) function of NetworkX to extract the subgraph induced by these nodes."
      ]
    },
    {
      "cell_type": "code",
      "metadata": {
        "colab_type": "code",
        "id": "t-xKnrqTRasv",
        "colab": {}
      },
      "source": [
        "def modularity(G, clustering):\n",
        "  modularity = 0\n",
        "  m = G.number_of_edges()\n",
        "  clusters = set(clustering.values())\n",
        "\n",
        "  for cluster in clusters:\n",
        "    nodes = [node for node in G.nodes() if clustering[node]==cluster]\n",
        "    subG = G.subgraph(nodes)\n",
        "    lc = subG.number_of_edges()\n",
        "\n",
        "    dc = 0\n",
        "    for node in nodes:\n",
        "      dc += G.degree(node)\n",
        "\n",
        "    modularity += lc/m - (dc/(2*m))**2\n",
        "  \n",
        "  return modularity"
      ],
      "execution_count": null,
      "outputs": []
    },
    {
      "cell_type": "code",
      "metadata": {
        "id": "0ilVCMN28nxw",
        "colab_type": "code",
        "colab": {
          "base_uri": "https://localhost:8080/",
          "height": 34
        },
        "outputId": "21e42860-4be8-4368-a0b9-bea34c3ea143"
      },
      "source": [
        "print(modularity(G, clustering))"
      ],
      "execution_count": null,
      "outputs": [
        {
          "output_type": "stream",
          "text": [
            "0.233974358974359\n"
          ],
          "name": "stdout"
        }
      ]
    },
    {
      "cell_type": "markdown",
      "metadata": {
        "colab_type": "text",
        "id": "g2k8sldvRas0"
      },
      "source": [
        "Next, we will use modularity to compare the following two clustering results of the `karate` dataset: (i) the one obtained by the Spectral Clustering algorithm, and (ii) the one obtained if we randomly partition the nodes into 2 clusters.\n",
        "To assign each node to a cluster, use the `randint(a,b)` function which returns a random integer $n$ such that $a \\leq n \\leq b$.\n",
        "\n",
        "<u>Tasks</u>:\n",
        "- Assign the nodes of the `karate` network randomly to 2 clusters to generate a random partitioning of the network.\n",
        "- Compare the two clustering results. What is the performance of the Spectral Clustering algorithm compared to the algorithm that randomly clusters the nodes?"
      ]
    },
    {
      "cell_type": "code",
      "metadata": {
        "colab_type": "code",
        "id": "3aR1g-Q6Ras0",
        "colab": {
          "base_uri": "https://localhost:8080/",
          "height": 34
        },
        "outputId": "a2dfd4c5-f979-4db7-e039-38a4be484e3f"
      },
      "source": [
        "from random import randint\n",
        "\n",
        "random_clustering = dict()\n",
        "for node in G.nodes():\n",
        "  random_clustering[node] = randint(0,1)\n",
        "\n",
        "print(\"Modularity of random clustering:\", modularity(G, random_clustering))"
      ],
      "execution_count": null,
      "outputs": [
        {
          "output_type": "stream",
          "text": [
            "Modularity of random clustering: -0.050295857988165577\n"
          ],
          "name": "stdout"
        }
      ]
    },
    {
      "cell_type": "code",
      "metadata": {
        "id": "GdgmxLFl-9t9",
        "colab_type": "code",
        "colab": {
          "base_uri": "https://localhost:8080/",
          "height": 34
        },
        "outputId": "944d8c45-ccb0-4fed-88e4-6616b467f33f"
      },
      "source": [
        "from networkx.algorithms.community import greedy_modularity_communities\n",
        "\n",
        "c = list(greedy_modularity_communities(G))\n",
        "greedy_clustering = dict()\n",
        "for i,s in enumerate(c):\n",
        "  for node in s:\n",
        "    greedy_clustering[node] = i\n",
        "\n",
        "print(\"Modularity of greedy clustering:\", modularity(G, greedy_clustering))"
      ],
      "execution_count": null,
      "outputs": [
        {
          "output_type": "stream",
          "text": [
            "Modularity of greedy clustering: 0.3806706114398422\n"
          ],
          "name": "stdout"
        }
      ]
    },
    {
      "cell_type": "markdown",
      "metadata": {
        "id": "UQeONyOTlr6Y",
        "colab_type": "text"
      },
      "source": [
        "## 3. Graph Classification\n",
        "In the last part of the lab, we will focus on the problem of graph classification. Graph classification arises in the context of a number of classical domains such as chemical data, biological data, and the web. In order to perform graph classification, we will employ graph kernels, a powerful framework for graph comparison.\n",
        "\n",
        "Kernels can be intuitively understood as functions measuring the similarity of pairs of objects. More formally, for a function $k(x,x')$ to be a kernel, it has to be (1) symmetric: $k(x,x') = k(x',x)$, and (2) positive semi-definite. If a function satisfies the above two conditions on a set $\\mathcal{X}$, it is known that there exists a map $\\phi : \\mathcal{X} \\to \\mathcal{H}$ into a Hilbert space $\\mathcal{H}$, such that $k(x,x') = \\langle \\phi(x), \\phi(x') \\rangle$ for all $(x, x') \\in \\mathcal{X}^2$ where $\\langle\\cdot, \\cdot\\rangle$ is the inner product in $\\mathcal{H}$. Kernel functions thus compute the inner product between examples that are mapped in a higher-dimensional feature space. However, they do not necessarily explicitly compute the feature map $\\phi$ for each example. One advantage of kernel methods is that they can operate on very general types of data such as images and graphs. Kernels defined on graphs are known as *graph kernels*. Most graph kernels decompose graphs into their substructures and then to measure their similarity, they count the number of common substructures. Graph kernels typically focus on some structural aspect of graphs such as random walks, shortest paths, subtrees, cycles, and graphlets.\n",
        "\n",
        "We will first create a very simple graph classification dataset. The dataset will contain two types of graphs: (1) cycle graphs, and (2) path graphs. A cycle graph $C_n$ is a graph on $n$ nodes containing a single cycle through all nodes, while a path graph $P_n$ is a tree with two nodes of degree 1, and all the remaining $n-2$ nodes of degree 2. Each graph is assigned a class label: label 0 if it is a cycle or label 1 if it is a path. The Figure below illustrates such a dataset consisting of three cycle graphs and three path graphs.\n",
        "\n",
        "<img src=\"http://www.db-net.aueb.gr/nikolentzos/dssp/graph_mining/figures/synthetic_graphs.png\" width=\"500\"/>\n",
        "    \n",
        "<u>Task</u>:\n",
        "- Use the [`cycle_graph()`](https://networkx.github.io/documentation/stable/reference/generated/networkx.generators.classic.cycle_graph.html#networkx.generators.classic.cycle_graph) and [`path_graph()`](https://networkx.github.io/documentation/stable/reference/generated/networkx.generators.classic.path_graph.html#networkx.generators.classic.path_graph) functions of NetworkX to generate 100 cycle graphs and 100 path graphs of size $n=3,\\ldots,102$, respectively. Store the 200 graphs in a list $Gs$ and their class labels in another list $y$."
      ]
    },
    {
      "cell_type": "code",
      "metadata": {
        "id": "yY-pmrEElr6Z",
        "colab_type": "code",
        "colab": {
          "base_uri": "https://localhost:8080/",
          "height": 34
        },
        "outputId": "a91cdaaf-05e0-4ffc-d1a8-07059e5d7db3"
      },
      "source": [
        "Gs = list()\n",
        "y = list()\n",
        "\n",
        "for i in range(3, 103):\n",
        "  Gs.append(nx.cycle_graph(i))\n",
        "  y.append(0)\n",
        "\n",
        "  Gs.append(nx.path_graph(i))\n",
        "  y.append(1)\n",
        "\n",
        "print(\"Size of the dataset:\", len(Gs))"
      ],
      "execution_count": null,
      "outputs": [
        {
          "output_type": "stream",
          "text": [
            "Size of the dataset: 200\n"
          ],
          "name": "stdout"
        }
      ]
    },
    {
      "cell_type": "markdown",
      "metadata": {
        "id": "OatljsrMlr6c",
        "colab_type": "text"
      },
      "source": [
        "We will next investigate if graph kernels can distinguish cycle graphs from path graphs. To this end, we will make use of the shortest path kernel, a kernel that compares shortest path lengths in two graps. Before computing the kernel, it is necessary to split the dataset into a training and a test set. We can use the [`train_test_split()`](https://scikit-learn.org/stable/modules/generated/sklearn.model_selection.train_test_split.html) function of scikit-learn as follows:\n",
        "    \n",
        "    from sklearn.model_selection import train_test_split\n",
        "\n",
        "    G_train, G_test, y_train, y_test = train_test_split(Gs, y, test_size=0.1)\n",
        "    \n",
        "<u>Task</u>:\n",
        "- Split the dataset into a training and a test set."
      ]
    },
    {
      "cell_type": "code",
      "metadata": {
        "id": "kHFpMYAxlr6d",
        "colab_type": "code",
        "colab": {}
      },
      "source": [
        "from sklearn.model_selection import train_test_split\n",
        "\n",
        "G_train, G_test, y_train, y_test = train_test_split(Gs, y, test_size=0.1)"
      ],
      "execution_count": null,
      "outputs": []
    },
    {
      "cell_type": "markdown",
      "metadata": {
        "id": "xvmHv_dIlr6j",
        "colab_type": "text"
      },
      "source": [
        "The shortest path kernel compares the length of shortest paths of two graphs. More specifically, given two graphs $G=(V,E)$ and $G'=(V',E')$, the shortest path kernel is defined as:\n",
        "\n",
        "$$\n",
        "k(G,G') = \\sum_{(v_1,v_2) \\in V \\times V} \\sum_{(v'_1,v'_2) \\in V' \\times V'} k_{length}(sp_{v_1,v_2}, sp_{v'_1,v'_2})\n",
        "$$\n",
        "\n",
        "where $k_{length}$ is a kernel on shortest path lengths, and $sp_{v_i,v_j}$ is the length of the shortest path between vertices $v_i$ and $v_j$. We will use the following kernel for comparing shortest path lengths:\n",
        "\n",
        "$$\n",
        "k_{length}(sp_{v_1,v_2}, sp_{v'_1,v'_2}) = \\left\\{\n",
        "            \\begin{array}{lr}\n",
        "                1 & \\text{if }sp_{v_1,v_2} = sp_{v'_1,v'_2},\\\\\n",
        "                0 & \\text{otherwise}\n",
        "            \\end{array}\n",
        "            \\right.\n",
        "$$\n",
        "\n",
        "Therefore, $k_{length}(sp_{v_1,v_2}, sp_{v'_1,v'_2})$ is equal to 1 if $sp_{v_1,v_2}$ and $sp_{v'_1,v'_2}$ are equal to each other, and $0$ otherwise.\n",
        "\n",
        "Below you are given a function that takes as input two sets of graphs (of sizes $N_1$ and $N_2$), and computes the kernel matrix $K \\in \\mathbb{R}^{N_1\\times N_2}$ which stores the kernel values between the graphs of the first set and those of the second set."
      ]
    },
    {
      "cell_type": "code",
      "metadata": {
        "id": "Fb7ABITVlr6j",
        "colab_type": "code",
        "colab": {}
      },
      "source": [
        "def sp_kernel(Gs1, Gs2):\n",
        "    N1 = len(Gs1)\n",
        "    N2 = len(Gs2)\n",
        "    \n",
        "    all_paths = dict()\n",
        "    sp_counts = dict()\n",
        "    \n",
        "    for i,G in enumerate(Gs1):\n",
        "        sp_lengths = dict(nx.shortest_path_length(G))\n",
        "        sp_counts[i] = dict()\n",
        "        nodes = G.nodes()\n",
        "        for v1 in nodes:\n",
        "            for v2 in nodes:\n",
        "                if v2 in sp_lengths[v1]:\n",
        "                    length = sp_lengths[v1][v2]\n",
        "                    if length in sp_counts[i]:\n",
        "                        sp_counts[i][length] += 1\n",
        "                    else:\n",
        "                        sp_counts[i][length] = 1\n",
        "\n",
        "                    if length not in all_paths:\n",
        "                        all_paths[length] = len(all_paths)\n",
        "                        \n",
        "    for i,G in enumerate(Gs2):\n",
        "        sp_lengths = dict(nx.shortest_path_length(G))\n",
        "        sp_counts[N1+i] = dict()\n",
        "        nodes = G.nodes()\n",
        "        for v1 in nodes:\n",
        "            for v2 in nodes:\n",
        "                if v2 in sp_lengths[v1]:\n",
        "                    length = sp_lengths[v1][v2]\n",
        "                    if length in sp_counts[N1+i]:\n",
        "                        sp_counts[N1+i][length] += 1\n",
        "                    else:\n",
        "                        sp_counts[N1+i][length] = 1\n",
        "\n",
        "                    if length not in all_paths:\n",
        "                        all_paths[length] = len(all_paths)\n",
        "\n",
        "    phi1 = np.zeros((N1, len(all_paths)))\n",
        "    for i in range(N1):\n",
        "        for length in sp_counts[i]:\n",
        "            phi1[i,all_paths[length]] = sp_counts[i][length]\n",
        "            \n",
        "    phi2 = np.zeros((N2, len(all_paths)))\n",
        "    for i in range(N2):\n",
        "        for length in sp_counts[N1+i]:\n",
        "            phi2[i,all_paths[length]] = sp_counts[N1+i][length]\n",
        "\n",
        "    K = np.dot(phi1,phi2.T)\n",
        "\n",
        "    return K"
      ],
      "execution_count": null,
      "outputs": []
    },
    {
      "cell_type": "markdown",
      "metadata": {
        "id": "zKaMhJ6mlr6n",
        "colab_type": "text"
      },
      "source": [
        "We are interested in generating two matrices. A symmetric matrix $\\mathbf{K}_{train}$ which contains the kernel values for all pairs of training graphs, and a second matrix $\\mathbf{K}_{test}$ which stores the kernel values between the graphs of the test set and those of the training set. We can obtain these two matrices very easily using the function defined above. After generating the two kernel matrices, we can use the SVM classifier to perform graph classification.\n",
        "\n",
        "<u>Tasks</u>:\n",
        "- Use the shortest path kernel to compute the $\\mathbf{K}_{train}$ and $\\mathbf{K}_{test}$ matrices.\n",
        "- Train an [SVM classifier](https://scikit-learn.org/stable/modules/generated/sklearn.svm.SVC.html) and use it to make predictions. Note that we have already pre-computed the kernel matrices (set parameter kernel equal to 'precomputed').  "
      ]
    },
    {
      "cell_type": "code",
      "metadata": {
        "id": "uHnEoGWllr6o",
        "colab_type": "code",
        "colab": {
          "base_uri": "https://localhost:8080/",
          "height": 52
        },
        "outputId": "dd725d59-a1a8-48dd-f5f9-09411a061443"
      },
      "source": [
        "from sklearn.svm import SVC\n",
        "\n",
        "K_train = sp_kernel(G_train, G_train)\n",
        "print(\"Train matrix dim:\", K_train.shape)\n",
        "\n",
        "K_test = sp_kernel(G_test, G_train)\n",
        "print(\"Test matrix dim:\", K_test.shape)\n",
        "\n",
        "clf = SVC(kernel='precomputed')\n",
        "clf.fit(K_train, y_train)\n",
        "y_pred = clf.predict(K_test)"
      ],
      "execution_count": null,
      "outputs": [
        {
          "output_type": "stream",
          "text": [
            "Train matrix dim: (180, 180)\n",
            "Test matrix dim: (20, 180)\n"
          ],
          "name": "stdout"
        }
      ]
    },
    {
      "cell_type": "markdown",
      "metadata": {
        "id": "aBsRQBTIlr6r",
        "colab_type": "text"
      },
      "source": [
        "Finally, we will evaluate the shortest path kernel. More specifically, we will compute its classification accuracy.\n",
        "\n",
        "<u>Tasks</u>:\n",
        "- Use the [`accuracy_score()`](https://scikit-learn.org/stable/modules/generated/sklearn.metrics.accuracy_score.html) function of scikit-learn to compute the classification accuracy of the shortest path kernel. "
      ]
    },
    {
      "cell_type": "code",
      "metadata": {
        "id": "5572jQgulr6r",
        "colab_type": "code",
        "colab": {
          "base_uri": "https://localhost:8080/",
          "height": 34
        },
        "outputId": "ededff57-faf0-4b6c-a963-951e9758aad0"
      },
      "source": [
        "from sklearn.metrics import accuracy_score\n",
        "\n",
        "print(\"Accuracy:\", accuracy_score(y_test, y_pred))"
      ],
      "execution_count": null,
      "outputs": [
        {
          "output_type": "stream",
          "text": [
            "Accuracy: 1.0\n"
          ],
          "name": "stdout"
        }
      ]
    }
  ]
}